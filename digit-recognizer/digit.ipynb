{
 "cells": [
  {
   "cell_type": "code",
   "execution_count": null,
   "id": "initial_id",
   "metadata": {
    "collapsed": true,
    "ExecuteTime": {
     "end_time": "2024-02-11T17:47:10.528212900Z",
     "start_time": "2024-02-11T17:47:10.513214900Z"
    }
   },
   "outputs": [],
   "source": []
  },
  {
   "cell_type": "code",
   "execution_count": 1,
   "outputs": [],
   "source": [
    "import pandas as pd\n",
    "import numpy as np\n",
    "import matplotlib.pyplot as plt\n",
    "import seaborn as sns"
   ],
   "metadata": {
    "collapsed": false,
    "ExecuteTime": {
     "end_time": "2024-02-11T17:47:10.543213600Z",
     "start_time": "2024-02-11T17:47:10.529213Z"
    }
   },
   "id": "4ffe87609f36d9b4"
  },
  {
   "cell_type": "code",
   "execution_count": 2,
   "outputs": [],
   "source": [
    "train_data = pd.read_csv(r\"train.csv\")\n",
    "test_data = pd.read_csv(r\"test.csv\")"
   ],
   "metadata": {
    "collapsed": false,
    "ExecuteTime": {
     "end_time": "2024-02-11T17:47:12.367213300Z",
     "start_time": "2024-02-11T17:47:10.544213500Z"
    }
   },
   "id": "97cdd633065131ab"
  },
  {
   "cell_type": "code",
   "execution_count": 3,
   "outputs": [
    {
     "name": "stdout",
     "output_type": "stream",
     "text": [
      "Train Data sample\n",
      "   label  pixel0  pixel1  pixel2  pixel3  pixel4  pixel5  pixel6  pixel7  \\\n",
      "0      1       0       0       0       0       0       0       0       0   \n",
      "1      0       0       0       0       0       0       0       0       0   \n",
      "2      1       0       0       0       0       0       0       0       0   \n",
      "3      4       0       0       0       0       0       0       0       0   \n",
      "4      0       0       0       0       0       0       0       0       0   \n",
      "\n",
      "   pixel8  ...  pixel774  pixel775  pixel776  pixel777  pixel778  pixel779  \\\n",
      "0       0  ...         0         0         0         0         0         0   \n",
      "1       0  ...         0         0         0         0         0         0   \n",
      "2       0  ...         0         0         0         0         0         0   \n",
      "3       0  ...         0         0         0         0         0         0   \n",
      "4       0  ...         0         0         0         0         0         0   \n",
      "\n",
      "   pixel780  pixel781  pixel782  pixel783  \n",
      "0         0         0         0         0  \n",
      "1         0         0         0         0  \n",
      "2         0         0         0         0  \n",
      "3         0         0         0         0  \n",
      "4         0         0         0         0  \n",
      "\n",
      "[5 rows x 785 columns]\n",
      "Shape of the train data file (42000, 785)\n",
      "Shape of the train data file (28000, 784)\n"
     ]
    }
   ],
   "source": [
    "print('Train Data sample')\n",
    "print(train_data.head())\n",
    "print('Shape of the train data file {}'.format(train_data.shape))\n",
    "print('Shape of the train data file {}'.format(test_data.shape))"
   ],
   "metadata": {
    "collapsed": false,
    "ExecuteTime": {
     "end_time": "2024-02-11T17:47:12.384213300Z",
     "start_time": "2024-02-11T17:47:12.369214400Z"
    }
   },
   "id": "f02bfc8c14f3aa37"
  },
  {
   "cell_type": "code",
   "execution_count": 4,
   "outputs": [],
   "source": [
    "train_data = np.array(train_data, dtype='float32')\n",
    "test_data = np.array(test_data, dtype='float32')"
   ],
   "metadata": {
    "collapsed": false,
    "ExecuteTime": {
     "end_time": "2024-02-11T17:47:12.573213100Z",
     "start_time": "2024-02-11T17:47:12.384213300Z"
    }
   },
   "id": "28ac0f983b97cf76"
  },
  {
   "cell_type": "code",
   "execution_count": 5,
   "outputs": [
    {
     "data": {
      "text/plain": "9.0"
     },
     "execution_count": 5,
     "metadata": {},
     "output_type": "execute_result"
    },
    {
     "data": {
      "text/plain": "<Figure size 640x480 with 1 Axes>",
      "image/png": "[encoded data removed]"
     },
     "metadata": {},
     "output_type": "display_data"
    }
   ],
   "source": [
    "plt.imshow(train_data[100,1:].reshape(28,28))\n",
    "label = train_data[100,0]\n",
    "label"
   ],
   "metadata": {
    "collapsed": false,
    "ExecuteTime": {
     "end_time": "2024-02-11T17:47:12.730213500Z",
     "start_time": "2024-02-11T17:47:12.574213700Z"
    }
   },
   "id": "b68c0f4481fb671f"
  },
  {
   "cell_type": "code",
   "execution_count": 6,
   "outputs": [],
   "source": [
    "x_train = train_data[:,1:]\n",
    "x_train = x_train/255.\n",
    "y_train = train_data[:,0]"
   ],
   "metadata": {
    "collapsed": false,
    "ExecuteTime": {
     "end_time": "2024-02-11T17:47:12.840214Z",
     "start_time": "2024-02-11T17:47:12.731213100Z"
    }
   },
   "id": "7a1dcfa6d3c77b95"
  },
  {
   "cell_type": "code",
   "execution_count": 7,
   "outputs": [],
   "source": [
    "from sklearn.model_selection import train_test_split\n",
    "x_train,x_test,y_train,y_test = train_test_split(x_train,y_train,test_size=0.2, random_state=5)"
   ],
   "metadata": {
    "collapsed": false,
    "ExecuteTime": {
     "end_time": "2024-02-11T17:47:13.204215200Z",
     "start_time": "2024-02-11T17:47:12.778217300Z"
    }
   },
   "id": "466fbfb0ebe1b8c4"
  },
  {
   "cell_type": "code",
   "execution_count": 8,
   "outputs": [
    {
     "name": "stdout",
     "output_type": "stream",
     "text": [
      "Shape of x Train data is (33600, 784)\n",
      "Shape of y Train data is (33600,)\n",
      "Shape of x test data is (8400, 784)\n",
      "Shape of y test data is (8400,)\n"
     ]
    }
   ],
   "source": [
    "print('Shape of x Train data is {}'.format(x_train.shape))\n",
    "print('Shape of y Train data is {}'.format(y_train.shape))\n",
    "print('Shape of x test data is {}'.format(x_test.shape))\n",
    "print('Shape of y test data is {}'.format(y_test.shape))"
   ],
   "metadata": {
    "collapsed": false,
    "ExecuteTime": {
     "end_time": "2024-02-11T17:47:13.219212700Z",
     "start_time": "2024-02-11T17:47:13.204215200Z"
    }
   },
   "id": "637a5d1f9d54e71"
  },
  {
   "cell_type": "code",
   "execution_count": 9,
   "outputs": [],
   "source": [
    "x_train = x_train.reshape(x_train.shape[0], *(28,28,1))\n",
    "x_test = x_test.reshape(x_test.shape[0], *(28,28,1))"
   ],
   "metadata": {
    "collapsed": false,
    "ExecuteTime": {
     "end_time": "2024-02-11T17:47:13.262212400Z",
     "start_time": "2024-02-11T17:47:13.221213100Z"
    }
   },
   "id": "2579d16b72531716"
  },
  {
   "cell_type": "code",
   "execution_count": 11,
   "outputs": [],
   "source": [
    "from keras.models import Sequential\n",
    "from keras.layers import Conv2D, MaxPooling2D, Dense, Flatten, Dropout\n",
    "from keras.optimizers import Adam\n",
    "from keras.callbacks import TensorBoard"
   ],
   "metadata": {
    "collapsed": false,
    "ExecuteTime": {
     "end_time": "2024-02-11T17:47:36.509518200Z",
     "start_time": "2024-02-11T17:47:36.482518500Z"
    }
   },
   "id": "a2ac7408d25f77ce"
  },
  {
   "cell_type": "code",
   "execution_count": 12,
   "outputs": [
    {
     "name": "stdout",
     "output_type": "stream",
     "text": [
      "WARNING:tensorflow:From A:\\leti-projects\\kaggle-leti\\venv\\lib\\site-packages\\keras\\src\\backend.py:873: The name tf.get_default_graph is deprecated. Please use tf.compat.v1.get_default_graph instead.\n"
     ]
    }
   ],
   "source": [
    "model = Sequential()"
   ],
   "metadata": {
    "collapsed": false,
    "ExecuteTime": {
     "end_time": "2024-02-11T17:47:52.225661300Z",
     "start_time": "2024-02-11T17:47:52.077652400Z"
    }
   },
   "id": "fab613720c99f647"
  },
  {
   "cell_type": "code",
   "execution_count": 13,
   "outputs": [
    {
     "name": "stdout",
     "output_type": "stream",
     "text": [
      "WARNING:tensorflow:From A:\\leti-projects\\kaggle-leti\\venv\\lib\\site-packages\\keras\\src\\layers\\pooling\\max_pooling2d.py:161: The name tf.nn.max_pool is deprecated. Please use tf.nn.max_pool2d instead.\n"
     ]
    }
   ],
   "source": [
    "model.add(Conv2D(32, 3, 3, input_shape=(28,28,1), activation = 'relu'))\n",
    "model.add(MaxPooling2D(pool_size = (2,2)))\n",
    "model.add(Flatten())\n",
    "model.add(Dense(32, activation='relu'))\n",
    "model.add(Dense(10, activation='sigmoid'))"
   ],
   "metadata": {
    "collapsed": false,
    "ExecuteTime": {
     "end_time": "2024-02-11T17:48:55.218937600Z",
     "start_time": "2024-02-11T17:48:55.073940Z"
    }
   },
   "id": "e2a95f5fcd164e97"
  },
  {
   "cell_type": "code",
   "execution_count": 14,
   "outputs": [
    {
     "name": "stderr",
     "output_type": "stream",
     "text": [
      "WARNING:absl:`lr` is deprecated in Keras optimizer, please use `learning_rate` or use the legacy optimizer, e.g.,tf.keras.optimizers.legacy.Adam.\n"
     ]
    },
    {
     "name": "stdout",
     "output_type": "stream",
     "text": [
      "Epoch 1/80\n",
      "WARNING:tensorflow:From A:\\leti-projects\\kaggle-leti\\venv\\lib\\site-packages\\keras\\src\\utils\\tf_utils.py:492: The name tf.ragged.RaggedTensorValue is deprecated. Please use tf.compat.v1.ragged.RaggedTensorValue instead.\n"
     ]
    },
    {
     "name": "stderr",
     "output_type": "stream",
     "text": [
      "WARNING:tensorflow:From A:\\leti-projects\\kaggle-leti\\venv\\lib\\site-packages\\keras\\src\\utils\\tf_utils.py:492: The name tf.ragged.RaggedTensorValue is deprecated. Please use tf.compat.v1.ragged.RaggedTensorValue instead.\n",
      "\n"
     ]
    },
    {
     "name": "stdout",
     "output_type": "stream",
     "text": [
      "WARNING:tensorflow:From A:\\leti-projects\\kaggle-leti\\venv\\lib\\site-packages\\keras\\src\\engine\\base_layer_utils.py:384: The name tf.executing_eagerly_outside_functions is deprecated. Please use tf.compat.v1.executing_eagerly_outside_functions instead.\n"
     ]
    },
    {
     "name": "stderr",
     "output_type": "stream",
     "text": [
      "WARNING:tensorflow:From A:\\leti-projects\\kaggle-leti\\venv\\lib\\site-packages\\keras\\src\\engine\\base_layer_utils.py:384: The name tf.executing_eagerly_outside_functions is deprecated. Please use tf.compat.v1.executing_eagerly_outside_functions instead.\n",
      "\n"
     ]
    },
    {
     "name": "stdout",
     "output_type": "stream",
     "text": [
      "66/66 [==============================] - 1s 6ms/step - loss: 1.7287 - accuracy: 0.5161 - val_loss: 0.9927 - val_accuracy: 0.7263\n",
      "Epoch 2/80\n",
      "66/66 [==============================] - 0s 4ms/step - loss: 0.7085 - accuracy: 0.7979 - val_loss: 0.5521 - val_accuracy: 0.8427\n",
      "Epoch 3/80\n",
      "66/66 [==============================] - 0s 4ms/step - loss: 0.4623 - accuracy: 0.8665 - val_loss: 0.4180 - val_accuracy: 0.8773\n",
      "Epoch 4/80\n",
      "66/66 [==============================] - 0s 4ms/step - loss: 0.3634 - accuracy: 0.8943 - val_loss: 0.3480 - val_accuracy: 0.8987\n",
      "Epoch 5/80\n",
      "66/66 [==============================] - 0s 3ms/step - loss: 0.3069 - accuracy: 0.9096 - val_loss: 0.3037 - val_accuracy: 0.9121\n",
      "Epoch 6/80\n",
      "66/66 [==============================] - 0s 4ms/step - loss: 0.2710 - accuracy: 0.9185 - val_loss: 0.2769 - val_accuracy: 0.9202\n",
      "Epoch 7/80\n",
      "66/66 [==============================] - 0s 4ms/step - loss: 0.2453 - accuracy: 0.9261 - val_loss: 0.2542 - val_accuracy: 0.9251\n",
      "Epoch 8/80\n",
      "66/66 [==============================] - 0s 4ms/step - loss: 0.2280 - accuracy: 0.9311 - val_loss: 0.2454 - val_accuracy: 0.9282\n",
      "Epoch 9/80\n",
      "66/66 [==============================] - 0s 4ms/step - loss: 0.2147 - accuracy: 0.9350 - val_loss: 0.2290 - val_accuracy: 0.9307\n",
      "Epoch 10/80\n",
      "66/66 [==============================] - 0s 4ms/step - loss: 0.2016 - accuracy: 0.9390 - val_loss: 0.2193 - val_accuracy: 0.9340\n",
      "Epoch 11/80\n",
      "66/66 [==============================] - 0s 3ms/step - loss: 0.1912 - accuracy: 0.9415 - val_loss: 0.2119 - val_accuracy: 0.9350\n",
      "Epoch 12/80\n",
      "66/66 [==============================] - 0s 4ms/step - loss: 0.1833 - accuracy: 0.9438 - val_loss: 0.2062 - val_accuracy: 0.9377\n",
      "Epoch 13/80\n",
      "66/66 [==============================] - 0s 4ms/step - loss: 0.1744 - accuracy: 0.9463 - val_loss: 0.1988 - val_accuracy: 0.9386\n",
      "Epoch 14/80\n",
      "66/66 [==============================] - 0s 4ms/step - loss: 0.1685 - accuracy: 0.9484 - val_loss: 0.1958 - val_accuracy: 0.9386\n",
      "Epoch 15/80\n",
      "66/66 [==============================] - 0s 4ms/step - loss: 0.1634 - accuracy: 0.9504 - val_loss: 0.1933 - val_accuracy: 0.9389\n",
      "Epoch 16/80\n",
      "66/66 [==============================] - 0s 4ms/step - loss: 0.1581 - accuracy: 0.9520 - val_loss: 0.1854 - val_accuracy: 0.9418\n",
      "Epoch 17/80\n",
      "66/66 [==============================] - 0s 4ms/step - loss: 0.1540 - accuracy: 0.9535 - val_loss: 0.1836 - val_accuracy: 0.9411\n",
      "Epoch 18/80\n",
      "66/66 [==============================] - 0s 4ms/step - loss: 0.1482 - accuracy: 0.9542 - val_loss: 0.1788 - val_accuracy: 0.9438\n",
      "Epoch 19/80\n",
      "66/66 [==============================] - 0s 3ms/step - loss: 0.1447 - accuracy: 0.9553 - val_loss: 0.1781 - val_accuracy: 0.9420\n",
      "Epoch 20/80\n",
      "66/66 [==============================] - 0s 4ms/step - loss: 0.1419 - accuracy: 0.9574 - val_loss: 0.1740 - val_accuracy: 0.9461\n",
      "Epoch 21/80\n",
      "66/66 [==============================] - 0s 4ms/step - loss: 0.1377 - accuracy: 0.9578 - val_loss: 0.1695 - val_accuracy: 0.9473\n",
      "Epoch 22/80\n",
      "66/66 [==============================] - 0s 4ms/step - loss: 0.1332 - accuracy: 0.9590 - val_loss: 0.1671 - val_accuracy: 0.9490\n",
      "Epoch 23/80\n",
      "66/66 [==============================] - 0s 3ms/step - loss: 0.1293 - accuracy: 0.9605 - val_loss: 0.1652 - val_accuracy: 0.9488\n",
      "Epoch 24/80\n",
      "66/66 [==============================] - 0s 4ms/step - loss: 0.1279 - accuracy: 0.9617 - val_loss: 0.1619 - val_accuracy: 0.9486\n",
      "Epoch 25/80\n",
      "66/66 [==============================] - 0s 4ms/step - loss: 0.1241 - accuracy: 0.9622 - val_loss: 0.1583 - val_accuracy: 0.9512\n",
      "Epoch 26/80\n",
      "66/66 [==============================] - 0s 4ms/step - loss: 0.1227 - accuracy: 0.9635 - val_loss: 0.1630 - val_accuracy: 0.9493\n",
      "Epoch 27/80\n",
      "66/66 [==============================] - 0s 4ms/step - loss: 0.1196 - accuracy: 0.9636 - val_loss: 0.1617 - val_accuracy: 0.9504\n",
      "Epoch 28/80\n",
      "66/66 [==============================] - 0s 4ms/step - loss: 0.1177 - accuracy: 0.9634 - val_loss: 0.1583 - val_accuracy: 0.9513\n",
      "Epoch 29/80\n",
      "66/66 [==============================] - 0s 4ms/step - loss: 0.1161 - accuracy: 0.9645 - val_loss: 0.1526 - val_accuracy: 0.9531\n",
      "Epoch 30/80\n",
      "66/66 [==============================] - 0s 3ms/step - loss: 0.1121 - accuracy: 0.9651 - val_loss: 0.1556 - val_accuracy: 0.9532\n",
      "Epoch 31/80\n",
      "66/66 [==============================] - 0s 3ms/step - loss: 0.1105 - accuracy: 0.9654 - val_loss: 0.1492 - val_accuracy: 0.9544\n",
      "Epoch 32/80\n",
      "66/66 [==============================] - 0s 3ms/step - loss: 0.1095 - accuracy: 0.9657 - val_loss: 0.1489 - val_accuracy: 0.9550\n",
      "Epoch 33/80\n",
      "66/66 [==============================] - 0s 4ms/step - loss: 0.1068 - accuracy: 0.9668 - val_loss: 0.1506 - val_accuracy: 0.9539\n",
      "Epoch 34/80\n",
      "66/66 [==============================] - 0s 4ms/step - loss: 0.1060 - accuracy: 0.9676 - val_loss: 0.1476 - val_accuracy: 0.9550\n",
      "Epoch 35/80\n",
      "66/66 [==============================] - 0s 4ms/step - loss: 0.1040 - accuracy: 0.9677 - val_loss: 0.1493 - val_accuracy: 0.9549\n",
      "Epoch 36/80\n",
      "66/66 [==============================] - 0s 3ms/step - loss: 0.1018 - accuracy: 0.9691 - val_loss: 0.1453 - val_accuracy: 0.9549\n",
      "Epoch 37/80\n",
      "66/66 [==============================] - 0s 4ms/step - loss: 0.0997 - accuracy: 0.9688 - val_loss: 0.1430 - val_accuracy: 0.9557\n",
      "Epoch 38/80\n",
      "66/66 [==============================] - 0s 4ms/step - loss: 0.0993 - accuracy: 0.9690 - val_loss: 0.1446 - val_accuracy: 0.9567\n",
      "Epoch 39/80\n",
      "66/66 [==============================] - 0s 4ms/step - loss: 0.0973 - accuracy: 0.9695 - val_loss: 0.1434 - val_accuracy: 0.9569\n",
      "Epoch 40/80\n",
      "66/66 [==============================] - 0s 3ms/step - loss: 0.0952 - accuracy: 0.9713 - val_loss: 0.1472 - val_accuracy: 0.9565\n",
      "Epoch 41/80\n",
      "66/66 [==============================] - 0s 4ms/step - loss: 0.0933 - accuracy: 0.9710 - val_loss: 0.1400 - val_accuracy: 0.9575\n",
      "Epoch 42/80\n",
      "66/66 [==============================] - 0s 4ms/step - loss: 0.0927 - accuracy: 0.9714 - val_loss: 0.1404 - val_accuracy: 0.9573\n",
      "Epoch 43/80\n",
      "66/66 [==============================] - 0s 4ms/step - loss: 0.0904 - accuracy: 0.9726 - val_loss: 0.1392 - val_accuracy: 0.9573\n",
      "Epoch 44/80\n",
      "66/66 [==============================] - 0s 4ms/step - loss: 0.0891 - accuracy: 0.9721 - val_loss: 0.1362 - val_accuracy: 0.9586\n",
      "Epoch 45/80\n",
      "66/66 [==============================] - 0s 3ms/step - loss: 0.0885 - accuracy: 0.9730 - val_loss: 0.1366 - val_accuracy: 0.9579\n",
      "Epoch 46/80\n",
      "66/66 [==============================] - 0s 4ms/step - loss: 0.0867 - accuracy: 0.9734 - val_loss: 0.1383 - val_accuracy: 0.9593\n",
      "Epoch 47/80\n",
      "66/66 [==============================] - 0s 4ms/step - loss: 0.0854 - accuracy: 0.9740 - val_loss: 0.1409 - val_accuracy: 0.9565\n",
      "Epoch 48/80\n",
      "66/66 [==============================] - 0s 4ms/step - loss: 0.0852 - accuracy: 0.9741 - val_loss: 0.1352 - val_accuracy: 0.9587\n",
      "Epoch 49/80\n",
      "66/66 [==============================] - 0s 4ms/step - loss: 0.0817 - accuracy: 0.9757 - val_loss: 0.1367 - val_accuracy: 0.9579\n",
      "Epoch 50/80\n",
      "66/66 [==============================] - 0s 3ms/step - loss: 0.0821 - accuracy: 0.9751 - val_loss: 0.1326 - val_accuracy: 0.9589\n",
      "Epoch 51/80\n",
      "66/66 [==============================] - 0s 3ms/step - loss: 0.0808 - accuracy: 0.9753 - val_loss: 0.1318 - val_accuracy: 0.9598\n",
      "Epoch 52/80\n",
      "66/66 [==============================] - 0s 3ms/step - loss: 0.0796 - accuracy: 0.9757 - val_loss: 0.1380 - val_accuracy: 0.9588\n",
      "Epoch 53/80\n",
      "66/66 [==============================] - 0s 4ms/step - loss: 0.0790 - accuracy: 0.9766 - val_loss: 0.1319 - val_accuracy: 0.9595\n",
      "Epoch 54/80\n",
      "66/66 [==============================] - 0s 3ms/step - loss: 0.0783 - accuracy: 0.9752 - val_loss: 0.1368 - val_accuracy: 0.9582\n",
      "Epoch 55/80\n",
      "66/66 [==============================] - 0s 3ms/step - loss: 0.0772 - accuracy: 0.9759 - val_loss: 0.1307 - val_accuracy: 0.9606\n",
      "Epoch 56/80\n",
      "66/66 [==============================] - 0s 3ms/step - loss: 0.0745 - accuracy: 0.9770 - val_loss: 0.1330 - val_accuracy: 0.9610\n",
      "Epoch 57/80\n",
      "66/66 [==============================] - 0s 4ms/step - loss: 0.0739 - accuracy: 0.9771 - val_loss: 0.1322 - val_accuracy: 0.9610\n",
      "Epoch 58/80\n",
      "66/66 [==============================] - 0s 4ms/step - loss: 0.0728 - accuracy: 0.9776 - val_loss: 0.1299 - val_accuracy: 0.9606\n",
      "Epoch 59/80\n",
      "66/66 [==============================] - 0s 4ms/step - loss: 0.0727 - accuracy: 0.9775 - val_loss: 0.1327 - val_accuracy: 0.9610\n",
      "Epoch 60/80\n",
      "66/66 [==============================] - 0s 4ms/step - loss: 0.0734 - accuracy: 0.9771 - val_loss: 0.1308 - val_accuracy: 0.9607\n",
      "Epoch 61/80\n",
      "66/66 [==============================] - 0s 4ms/step - loss: 0.0692 - accuracy: 0.9787 - val_loss: 0.1315 - val_accuracy: 0.9629\n",
      "Epoch 62/80\n",
      "66/66 [==============================] - 0s 3ms/step - loss: 0.0693 - accuracy: 0.9790 - val_loss: 0.1299 - val_accuracy: 0.9617\n",
      "Epoch 63/80\n",
      "66/66 [==============================] - 0s 3ms/step - loss: 0.0679 - accuracy: 0.9792 - val_loss: 0.1332 - val_accuracy: 0.9610\n",
      "Epoch 64/80\n",
      "66/66 [==============================] - 0s 4ms/step - loss: 0.0667 - accuracy: 0.9795 - val_loss: 0.1311 - val_accuracy: 0.9605\n",
      "Epoch 65/80\n",
      "66/66 [==============================] - 0s 4ms/step - loss: 0.0654 - accuracy: 0.9804 - val_loss: 0.1325 - val_accuracy: 0.9604\n",
      "Epoch 66/80\n",
      "66/66 [==============================] - 0s 3ms/step - loss: 0.0646 - accuracy: 0.9810 - val_loss: 0.1305 - val_accuracy: 0.9608\n",
      "Epoch 67/80\n",
      "66/66 [==============================] - 0s 3ms/step - loss: 0.0649 - accuracy: 0.9799 - val_loss: 0.1288 - val_accuracy: 0.9618\n",
      "Epoch 68/80\n",
      "66/66 [==============================] - 0s 4ms/step - loss: 0.0629 - accuracy: 0.9814 - val_loss: 0.1307 - val_accuracy: 0.9618\n",
      "Epoch 69/80\n",
      "66/66 [==============================] - 0s 4ms/step - loss: 0.0630 - accuracy: 0.9810 - val_loss: 0.1289 - val_accuracy: 0.9619\n",
      "Epoch 70/80\n",
      "66/66 [==============================] - 0s 3ms/step - loss: 0.0612 - accuracy: 0.9811 - val_loss: 0.1296 - val_accuracy: 0.9615\n",
      "Epoch 71/80\n",
      "66/66 [==============================] - 0s 3ms/step - loss: 0.0606 - accuracy: 0.9816 - val_loss: 0.1285 - val_accuracy: 0.9623\n",
      "Epoch 72/80\n",
      "66/66 [==============================] - 0s 3ms/step - loss: 0.0609 - accuracy: 0.9813 - val_loss: 0.1272 - val_accuracy: 0.9619\n",
      "Epoch 73/80\n",
      "66/66 [==============================] - 0s 3ms/step - loss: 0.0588 - accuracy: 0.9821 - val_loss: 0.1289 - val_accuracy: 0.9620\n",
      "Epoch 74/80\n",
      "66/66 [==============================] - 0s 3ms/step - loss: 0.0594 - accuracy: 0.9829 - val_loss: 0.1300 - val_accuracy: 0.9615\n",
      "Epoch 75/80\n",
      "66/66 [==============================] - 0s 3ms/step - loss: 0.0582 - accuracy: 0.9823 - val_loss: 0.1323 - val_accuracy: 0.9613\n",
      "Epoch 76/80\n",
      "66/66 [==============================] - 0s 4ms/step - loss: 0.0568 - accuracy: 0.9823 - val_loss: 0.1288 - val_accuracy: 0.9631\n",
      "Epoch 77/80\n",
      "66/66 [==============================] - 0s 3ms/step - loss: 0.0563 - accuracy: 0.9832 - val_loss: 0.1312 - val_accuracy: 0.9623\n",
      "Epoch 78/80\n",
      "66/66 [==============================] - 0s 3ms/step - loss: 0.0551 - accuracy: 0.9837 - val_loss: 0.1298 - val_accuracy: 0.9636\n",
      "Epoch 79/80\n",
      "66/66 [==============================] - 0s 4ms/step - loss: 0.0547 - accuracy: 0.9839 - val_loss: 0.1294 - val_accuracy: 0.9624\n",
      "Epoch 80/80\n",
      "66/66 [==============================] - 0s 3ms/step - loss: 0.0553 - accuracy: 0.9837 - val_loss: 0.1309 - val_accuracy: 0.9629\n"
     ]
    },
    {
     "data": {
      "text/plain": "<keras.src.callbacks.History at 0x2c3736a98b0>"
     },
     "execution_count": 14,
     "metadata": {},
     "output_type": "execute_result"
    }
   ],
   "source": [
    "model.compile(loss ='sparse_categorical_crossentropy', optimizer=Adam(lr=0.001), metrics =['accuracy'])\n",
    "epochs = 80\n",
    "model.fit(x_train, y_train, batch_size = 512, epochs = epochs, verbose = 1,validation_data = (x_test, y_test))"
   ],
   "metadata": {
    "collapsed": false,
    "ExecuteTime": {
     "end_time": "2024-02-11T17:52:06.248615700Z",
     "start_time": "2024-02-11T17:51:46.411611900Z"
    }
   },
   "id": "49b6467f2be53fac"
  },
  {
   "cell_type": "code",
   "execution_count": 15,
   "outputs": [
    {
     "name": "stdout",
     "output_type": "stream",
     "text": [
      "Model: \"sequential\"\n",
      "_________________________________________________________________\n",
      " Layer (type)                Output Shape              Param #   \n",
      "=================================================================\n",
      " conv2d (Conv2D)             (None, 9, 9, 32)          320       \n",
      "                                                                 \n",
      " max_pooling2d (MaxPooling2  (None, 4, 4, 32)          0         \n",
      " D)                                                              \n",
      "                                                                 \n",
      " flatten (Flatten)           (None, 512)               0         \n",
      "                                                                 \n",
      " dense (Dense)               (None, 32)                16416     \n",
      "                                                                 \n",
      " dense_1 (Dense)             (None, 10)                330       \n",
      "                                                                 \n",
      "=================================================================\n",
      "Total params: 17066 (66.66 KB)\n",
      "Trainable params: 17066 (66.66 KB)\n",
      "Non-trainable params: 0 (0.00 Byte)\n",
      "_________________________________________________________________\n"
     ]
    }
   ],
   "source": [
    "model.summary()"
   ],
   "metadata": {
    "collapsed": false,
    "ExecuteTime": {
     "end_time": "2024-02-11T17:52:34.633434100Z",
     "start_time": "2024-02-11T17:52:34.583434Z"
    }
   },
   "id": "e67db240d7a3b3ee"
  },
  {
   "cell_type": "code",
   "execution_count": 16,
   "outputs": [],
   "source": [
    "x_test = test_data/255.\n",
    "x_test = x_test.reshape(x_test.shape[0], *(28,28,1))"
   ],
   "metadata": {
    "collapsed": false,
    "ExecuteTime": {
     "end_time": "2024-02-11T17:53:00.127930600Z",
     "start_time": "2024-02-11T17:53:00.090919200Z"
    }
   },
   "id": "b5c5da5cb6ce2c7c"
  },
  {
   "cell_type": "code",
   "execution_count": 18,
   "outputs": [
    {
     "name": "stdout",
     "output_type": "stream",
     "text": [
      "875/875 [==============================] - 1s 802us/step\n"
     ]
    },
    {
     "data": {
      "text/plain": "4"
     },
     "execution_count": 18,
     "metadata": {},
     "output_type": "execute_result"
    },
    {
     "data": {
      "text/plain": "<Figure size 640x480 with 1 Axes>",
      "image/png": "[encoded data removed]"
     },
     "metadata": {},
     "output_type": "display_data"
    }
   ],
   "source": [
    "plt.imshow(test_data[14,:].reshape(28,28))\n",
    "predictions = np.argmax(model.predict(x_test), axis=-1)\n",
    "predictions[14]"
   ],
   "metadata": {
    "collapsed": false,
    "ExecuteTime": {
     "end_time": "2024-02-11T18:06:03.981805800Z",
     "start_time": "2024-02-11T18:06:02.752976400Z"
    }
   },
   "id": "d8c889ee85d96f65"
  },
  {
   "cell_type": "code",
   "execution_count": 19,
   "outputs": [
    {
     "data": {
      "text/plain": "array([2, 0, 9, ..., 3, 9, 2], dtype=int64)"
     },
     "execution_count": 19,
     "metadata": {},
     "output_type": "execute_result"
    }
   ],
   "source": [
    "predictions"
   ],
   "metadata": {
    "collapsed": false,
    "ExecuteTime": {
     "end_time": "2024-02-11T18:07:38.295267700Z",
     "start_time": "2024-02-11T18:07:38.254242500Z"
    }
   },
   "id": "4c0f346e40543ff4"
  },
  {
   "cell_type": "code",
   "execution_count": 20,
   "outputs": [],
   "source": [
    "np.savetxt(\"res.csv\", predictions, delimiter=\",\")"
   ],
   "metadata": {
    "collapsed": false,
    "ExecuteTime": {
     "end_time": "2024-02-11T18:11:19.794751Z",
     "start_time": "2024-02-11T18:11:19.736752400Z"
    }
   },
   "id": "24933a2c7bad5886"
  },
  {
   "cell_type": "code",
   "execution_count": null,
   "outputs": [],
   "source": [],
   "metadata": {
    "collapsed": false
   },
   "id": "8d32c411aa158d76"
  }
 ],
 "metadata": {
  "kernelspec": {
   "display_name": "Python 3",
   "language": "python",
   "name": "python3"
  },
  "language_info": {
   "codemirror_mode": {
    "name": "ipython",
    "version": 2
   },
   "file_extension": ".py",
   "mimetype": "text/x-python",
   "name": "python",
   "nbconvert_exporter": "python",
   "pygments_lexer": "ipython2",
   "version": "2.7.6"
  }
 },
 "nbformat": 4,
 "nbformat_minor": 5
}
